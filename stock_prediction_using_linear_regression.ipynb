{
  "nbformat": 4,
  "nbformat_minor": 0,
  "metadata": {
    "colab": {
      "name": "Untitled",
      "version": "0.3.2",
      "provenance": [],
      "include_colab_link": true
    },
    "kernelspec": {
      "name": "python3",
      "display_name": "Python 3"
    }
  },
  "cells": [
    {
      "cell_type": "markdown",
      "metadata": {
        "id": "view-in-github",
        "colab_type": "text"
      },
      "source": [
        "<a href=\"https://colab.research.google.com/github/DK7823808138/Deepak-Kumar-photo/blob/master/stock_prediction_using_linear_regression.ipynb\" target=\"_parent\"><img src=\"https://colab.research.google.com/assets/colab-badge.svg\" alt=\"Open In Colab\"/></a>"
      ]
    },
    {
      "cell_type": "code",
      "metadata": {
        "id": "Hm3sML4V3XqI",
        "colab_type": "code",
        "colab": {}
      },
      "source": [
        "import quand1\n",
        "import numpy as np\n",
        "from sklearn.linear_model import LinearRegression\n",
        "from sklearn.svm import SVR\n",
        "from sklearn.model_selection import train_test_split"
      ],
      "execution_count": 0,
      "outputs": []
    },
    {
      "cell_type": "code",
      "metadata": {
        "id": "6P2LFNxi3_TD",
        "colab_type": "code",
        "colab": {}
      },
      "source": [
        "df= quand1.get(\"WIKI/FB\")\n",
        "print(df.head())"
      ],
      "execution_count": 0,
      "outputs": []
    },
    {
      "cell_type": "code",
      "metadata": {
        "id": "-iIkfXoa4OsF",
        "colab_type": "code",
        "colab": {}
      },
      "source": [
        "df= df[['Adj.close']]\n",
        "print(df.head())"
      ],
      "execution_count": 0,
      "outputs": []
    },
    {
      "cell_type": "code",
      "metadata": {
        "id": "OjuMzfR64hF6",
        "colab_type": "code",
        "colab": {}
      },
      "source": [
        "forecast_out= 1 \n",
        "df['Prediction'] = df[['Adj.Close']].shift(-forecast_out)\n",
        "print(df.tail())"
      ],
      "execution_count": 0,
      "outputs": []
    },
    {
      "cell_type": "code",
      "metadata": {
        "id": "JM7eVCJp82bf",
        "colab_type": "code",
        "colab": {}
      },
      "source": [
        "X = np.array(df.drop(['Prediction'],1))\n",
        "X = X[:-forecast_out]\n",
        "print(X)"
      ],
      "execution_count": 0,
      "outputs": []
    },
    {
      "cell_type": "code",
      "metadata": {
        "id": "bacTudP19nR1",
        "colab_type": "code",
        "colab": {}
      },
      "source": [
        "y = np.array(df['Prediction'])\n",
        "y = y[:-forecast_out]\n",
        "print(y)"
      ],
      "execution_count": 0,
      "outputs": []
    },
    {
      "cell_type": "code",
      "metadata": {
        "id": "FP68-tgw-FJW",
        "colab_type": "code",
        "colab": {}
      },
      "source": [
        "x_train, x_test, y_train, y_test = train_test_split(X,y, test_size=0.2)"
      ],
      "execution_count": 0,
      "outputs": []
    },
    {
      "cell_type": "code",
      "metadata": {
        "id": "jdqbbqjM-dZi",
        "colab_type": "code",
        "colab": {}
      },
      "source": [
        "svr_rbf = SVR(kernel='rbf', c=1e3, gamma=0.10)\n",
        "svr_rbf.fit(x_train, y_train)"
      ],
      "execution_count": 0,
      "outputs": []
    },
    {
      "cell_type": "code",
      "metadata": {
        "id": "9CzrNd9T-_mA",
        "colab_type": "code",
        "colab": {}
      },
      "source": [
        "svm_confidence = svr_rbf.score(x_test, y_test)\n",
        "print(\"svm confidence: \", svm_confidence)"
      ],
      "execution_count": 0,
      "outputs": []
    },
    {
      "cell_type": "code",
      "metadata": {
        "id": "6F-A-QSI_eGW",
        "colab_type": "code",
        "colab": {}
      },
      "source": [
        "lr = LinearRegression()\n",
        "lr.fit(x_test, y_test)"
      ],
      "execution_count": 0,
      "outputs": []
    },
    {
      "cell_type": "code",
      "metadata": {
        "id": "zj_MsS7M_ud4",
        "colab_type": "code",
        "colab": {}
      },
      "source": [
        "svm_confidence = svr_rbf.score(x_test, y_test)\n",
        "print(\"svm confidence: \", svm_confidence)"
      ],
      "execution_count": 0,
      "outputs": []
    },
    {
      "cell_type": "code",
      "metadata": {
        "id": "g-lPpfdK_y1R",
        "colab_type": "code",
        "colab": {}
      },
      "source": [
        "x_forecast = np.array(df.drop(['Prediction'],1))[-forecast_out:]\n",
        "print(x_forecast)"
      ],
      "execution_count": 0,
      "outputs": []
    },
    {
      "cell_type": "code",
      "metadata": {
        "id": "r9g7Ui9oAHY9",
        "colab_type": "code",
        "colab": {}
      },
      "source": [
        "lr_prediction = lr.predict(x_forecast)\n",
        "print(lr_prediction)\n",
        "svm_prediction = svr_rbf.predict(x_forecast)\n",
        "print(svm_prediction)"
      ],
      "execution_count": 0,
      "outputs": []
    }
  ]
}